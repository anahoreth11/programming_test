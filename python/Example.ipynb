{
 "cells": [
  {
   "cell_type": "markdown",
   "id": "2b02a122",
   "metadata": {},
   "source": [
    "## Abstact\n",
    "\n",
    "This notebook is the entry point for the project. We want to put some input data, analyze it and look up the results.   \n",
    "\n",
    "So the plan is:\n",
    "\n",
    "0. Look for the input file\n",
    "1. Create executable file from cpp sources\n",
    "2. Create config file\n",
    "3. Run executable file and get the output data\n",
    "4. Read and look up the output data\n",
    "\n",
    "Let's complete all the steps of this plan"
   ]
  },
  {
   "cell_type": "markdown",
   "id": "34aea9f5",
   "metadata": {},
   "source": [
    "## 0. Look for the input file\n",
    "\n",
    "For this demonstation we will use the Pseudodata file from the description of the task (file **description/PseudoData.csv**)"
   ]
  },
  {
   "cell_type": "markdown",
   "id": "c07bc29f",
   "metadata": {},
   "source": [
    "## 1. Create executable file from cpp sources\n",
    "First of all we need to create executable  file from cpp sources. Let's do it by the CMake commands, which we will run with **subprocess** library.\n",
    "\n",
    "Cmake will create the executable file according to file CMakeLists.txt, which is name is **cpp_executable.exe**. This file will be located in the **cpp/src/build/Debug** folder \n",
    "\n",
    "(TODO: change the folder for the executable file)."
   ]
  },
  {
   "cell_type": "code",
   "execution_count": 33,
   "id": "a9ed1039",
   "metadata": {},
   "outputs": [
    {
     "name": "stdout",
     "output_type": "stream",
     "text": [
      "building ok\n",
      "linking ok\n"
     ]
    }
   ],
   "source": [
    "import subprocess\n",
    "\n",
    "# build cpp sources\n",
    "cmake_build_command = \"cmake -S. -Bbuild\"\n",
    "p = subprocess.Popen([*cmake_build_command.split()], cwd=\"../cpp/src\")\n",
    "return_code = p.wait()\n",
    "if return_code == 0:\n",
    "    print(\"building ok\")\n",
    "\n",
    "# create executable file\n",
    "cmake_link_command = \"cmake --build build\"\n",
    "p = subprocess.Popen([*cmake_link_command.split()], cwd=\"../cpp/src\")\n",
    "return_code = p.wait()\n",
    "if return_code == 0:\n",
    "    print(\"linking ok\")"
   ]
  },
  {
   "cell_type": "markdown",
   "id": "8543c228",
   "metadata": {},
   "source": [
    "## 2. Create config file\n",
    "\n",
    "As shown in Readme file, we need to create config file in csv format, which have to contain fields **brand_factor,input_file_name,output_file_name,is_full_data**\n",
    "\n",
    "Let's set some values for these fields and write them to the **config.txt** file, which we will put to the input of the cpp executable file."
   ]
  },
  {
   "cell_type": "code",
   "execution_count": 13,
   "id": "0889fa54",
   "metadata": {},
   "outputs": [],
   "source": [
    "brand_factor = 1.0\n",
    "input_file_name = \"../description/PseudoData.csv\"\n",
    "output_file_name = \"output_data.txt\"\n",
    "is_full_data = 0\n",
    "\n",
    "config_file_name = \"config.txt\"\n",
    "with open(config_file_name, 'w') as f:\n",
    "    config_str = f\"{brand_factor},{input_file_name},{output_file_name},{is_full_data}\\n\"\n",
    "    f.write(config_str)"
   ]
  },
  {
   "cell_type": "markdown",
   "id": "13e5836d",
   "metadata": {},
   "source": [
    "## 3. Run executable file and get the output data\n",
    "\n",
    "Now we can run the cpp executable file, which we got on step 1 with path to the config file, which we created on the previous step.\n",
    "\n",
    "TODO: output the error messages\n"
   ]
  },
  {
   "cell_type": "code",
   "execution_count": 36,
   "id": "f0eb0140",
   "metadata": {},
   "outputs": [
    {
     "name": "stdout",
     "output_type": "stream",
     "text": [
      "execution ok\n"
     ]
    }
   ],
   "source": [
    "exe_path = '../cpp/src/build/Debug/cpp_executable.exe'\n",
    "config_file_path = \"config.txt\"\n",
    "\n",
    "p = subprocess.Popen([exe_path, config_file_path])\n",
    "return_code = p.wait()\n",
    "if return_code == 0:\n",
    "    print(\"execution ok\")"
   ]
  },
  {
   "cell_type": "markdown",
   "id": "455f5032",
   "metadata": {},
   "source": [
    "## 4. Read and look up the output data\n",
    "\n",
    "If we succeeded on the previous steps, now we have the file **output_file_name**, which format is described in the Readme file: for all the age we have five rows with ids:\n",
    "\n",
    "Breed_C ids\n",
    "\n",
    "Breed_NC ids\n",
    "\n",
    "Breed_C Lost ids\n",
    "\n",
    "Breed_C Gained ids\n",
    "\n",
    "Breed_C ids\n",
    "\n",
    "So let's get this data from the **output_file_name** file and look up it."
   ]
  },
  {
   "cell_type": "code",
   "execution_count": null,
   "id": "6a053ab4",
   "metadata": {},
   "outputs": [],
   "source": []
  },
  {
   "cell_type": "code",
   "execution_count": null,
   "id": "1c79c321",
   "metadata": {},
   "outputs": [],
   "source": []
  },
  {
   "cell_type": "code",
   "execution_count": null,
   "id": "1be1ab4a",
   "metadata": {},
   "outputs": [],
   "source": []
  },
  {
   "cell_type": "code",
   "execution_count": null,
   "id": "506d42d1",
   "metadata": {},
   "outputs": [],
   "source": []
  },
  {
   "cell_type": "code",
   "execution_count": null,
   "id": "e6449a42",
   "metadata": {},
   "outputs": [],
   "source": []
  },
  {
   "cell_type": "code",
   "execution_count": null,
   "id": "989ad1d5",
   "metadata": {},
   "outputs": [],
   "source": []
  }
 ],
 "metadata": {
  "kernelspec": {
   "display_name": "Python 3 (ipykernel)",
   "language": "python",
   "name": "python3"
  },
  "language_info": {
   "codemirror_mode": {
    "name": "ipython",
    "version": 3
   },
   "file_extension": ".py",
   "mimetype": "text/x-python",
   "name": "python",
   "nbconvert_exporter": "python",
   "pygments_lexer": "ipython3",
   "version": "3.9.12"
  }
 },
 "nbformat": 4,
 "nbformat_minor": 5
}
